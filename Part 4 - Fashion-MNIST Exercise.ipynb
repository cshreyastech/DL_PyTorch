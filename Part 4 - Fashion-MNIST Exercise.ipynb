{
 "cells": [
  {
   "cell_type": "markdown",
   "metadata": {},
   "source": [
    "# Classifying Fashion-MNIST\n",
    "\n",
    "Now it's your turn to build and train a neural network. You'll be using the [Fashion-MNIST dataset](https://github.com/zalandoresearch/fashion-mnist), a drop-in replacement for the MNIST dataset. MNIST is actually quite trivial with neural networks where you can easily achieve better than 97% accuracy. Fashion-MNIST is a set of 28x28 greyscale images of clothes. It's more complex than MNIST, so it's a better representation of the actual performance of your network, and a better representation of datasets you'll use in the real world.\n",
    "\n",
    "<img src='assets/fashion-mnist-sprite.png' width=500px>\n",
    "\n",
    "In this notebook, you'll build your own neural network. For the most part, you could just copy and paste the code from Part 3, but you wouldn't be learning. It's important for you to write the code yourself and get it to work. Feel free to consult the previous notebook though as you work through this.\n",
    "\n",
    "First off, let's load the dataset through torchvision."
   ]
  },
  {
   "cell_type": "code",
   "execution_count": 1,
   "metadata": {},
   "outputs": [],
   "source": [
    "import torch\n",
    "from torchvision import datasets, transforms\n",
    "import helper\n",
    "\n",
    "# Define a transform to normalize the data\n",
    "transform = transforms.Compose([transforms.ToTensor(),\n",
    "                                transforms.Normalize((0.5, 0.5, 0.5), (0.5, 0.5, 0.5))])\n",
    "# Download and load the training data\n",
    "trainset = datasets.FashionMNIST('F_MNIST_data/', download=True, train=True, transform=transform)\n",
    "trainloader = torch.utils.data.DataLoader(trainset, batch_size=64, shuffle=True)\n",
    "\n",
    "# Download and load the test data\n",
    "testset = datasets.FashionMNIST('F_MNIST_data/', download=True, train=False, transform=transform)\n",
    "testloader = torch.utils.data.DataLoader(testset, batch_size=64, shuffle=True)"
   ]
  },
  {
   "cell_type": "markdown",
   "metadata": {},
   "source": [
    "Here we can see one of the images."
   ]
  },
  {
   "cell_type": "code",
   "execution_count": 2,
   "metadata": {},
   "outputs": [
    {
     "data": {
      "image/png": "[encoded data removed]",
      "text/plain": [
       "<matplotlib.figure.Figure at 0x7facec53da58>"
      ]
     },
     "metadata": {},
     "output_type": "display_data"
    }
   ],
   "source": [
    "image, label = next(iter(trainloader))\n",
    "helper.imshow(image[0,:]);"
   ]
  },
  {
   "cell_type": "markdown",
   "metadata": {},
   "source": [
    "With the data loaded, it's time to import the necessary packages."
   ]
  },
  {
   "cell_type": "code",
   "execution_count": 3,
   "metadata": {},
   "outputs": [],
   "source": [
    "%matplotlib inline\n",
    "%config InlineBackend.figure_format = 'retina'\n",
    "\n",
    "import matplotlib.pyplot as plt\n",
    "import numpy as np\n",
    "import time\n",
    "\n",
    "import torch\n",
    "from torch import nn\n",
    "from torch import optim\n",
    "import torch.nn.functional as F\n",
    "from torchvision import datasets, transforms\n",
    "\n",
    "import helper\n",
    "from collections import OrderedDict"
   ]
  },
  {
   "cell_type": "markdown",
   "metadata": {},
   "source": [
    "## Building the network\n",
    "\n",
    "Here you should define your network. As with MNIST, each image is 28x28 which is a total of 784 pixels, and there are 10 classes. You should include at least one hidden layer. We suggest you use ReLU activations for the layers and to return the logits from the forward pass. It's up to you how many layers you add and the size of those layers."
   ]
  },
  {
   "cell_type": "code",
   "execution_count": 4,
   "metadata": {},
   "outputs": [],
   "source": [
    "# TODO: Define your network architecture here\n",
    "# Hyperparameters for our network\n",
    "input_size = 784\n",
    "hidden_sizes = [128, 64]\n",
    "output_size = 10\n",
    "\n",
    "# Build a feed-forward network\n",
    "model = nn.Sequential(OrderedDict([\n",
    "                      ('fc1', nn.Linear(input_size, hidden_sizes[0])),\n",
    "                      ('relu1', nn.ReLU()),\n",
    "                      ('fc2', nn.Linear(hidden_sizes[0], hidden_sizes[1])),\n",
    "                      ('relu2', nn.ReLU()),\n",
    "                      ('logits', nn.Linear(hidden_sizes[1], output_size))]))"
   ]
  },
  {
   "cell_type": "markdown",
   "metadata": {},
   "source": [
    "# Train the network\n",
    "\n",
    "Now you should create your network and train it. First you'll want to define [the criterion](http://pytorch.org/docs/master/nn.html#loss-functions) ( something like `nn.CrossEntropyLoss`) and [the optimizer](http://pytorch.org/docs/master/optim.html) (typically `optim.SGD` or `optim.Adam`).\n",
    "\n",
    "Then write the training code. Remember the training pass is a fairly straightforward process:\n",
    "\n",
    "* Make a forward pass through the network to get the logits \n",
    "* Use the logits to calculate the loss\n",
    "* Perform a backward pass through the network with `loss.backward()` to calculate the gradients\n",
    "* Take a step with the optimizer to update the weights\n",
    "\n",
    "By adjusting the hyperparameters (hidden units, learning rate, etc), you should be able to get the training loss below 0.4."
   ]
  },
  {
   "cell_type": "code",
   "execution_count": 5,
   "metadata": {},
   "outputs": [],
   "source": [
    "# TODO: Create the network, define the criterion and optimizer\n",
    "criterion = nn.CrossEntropyLoss()\n",
    "optimizer = optim.SGD(model.parameters(), lr=0.01)"
   ]
  },
  {
   "cell_type": "code",
   "execution_count": 6,
   "metadata": {},
   "outputs": [
    {
     "name": "stdout",
     "output_type": "stream",
     "text": [
      "Epoch: 1/3...  Loss: 2.2505\n",
      "Epoch: 1/3...  Loss: 2.1245\n",
      "Epoch: 1/3...  Loss: 1.9371\n",
      "Epoch: 1/3...  Loss: 1.7074\n",
      "Epoch: 1/3...  Loss: 1.4585\n",
      "Epoch: 1/3...  Loss: 1.2425\n",
      "Epoch: 1/3...  Loss: 1.1034\n",
      "Epoch: 1/3...  Loss: 0.9782\n",
      "Epoch: 1/3...  Loss: 0.9049\n",
      "Epoch: 1/3...  Loss: 0.8716\n",
      "Epoch: 1/3...  Loss: 0.7844\n",
      "Epoch: 1/3...  Loss: 0.8026\n",
      "Epoch: 1/3...  Loss: 0.7819\n",
      "Epoch: 1/3...  Loss: 0.7425\n",
      "Epoch: 1/3...  Loss: 0.7082\n",
      "Epoch: 1/3...  Loss: 0.7029\n",
      "Epoch: 1/3...  Loss: 0.6623\n",
      "Epoch: 1/3...  Loss: 0.6904\n",
      "Epoch: 1/3...  Loss: 0.6435\n",
      "Epoch: 1/3...  Loss: 0.6249\n",
      "Epoch: 1/3...  Loss: 0.6103\n",
      "Epoch: 1/3...  Loss: 0.5996\n",
      "Epoch: 1/3...  Loss: 0.6244\n",
      "Epoch: 2/3...  Loss: 0.3155\n",
      "Epoch: 2/3...  Loss: 0.6133\n",
      "Epoch: 2/3...  Loss: 0.5885\n",
      "Epoch: 2/3...  Loss: 0.5811\n",
      "Epoch: 2/3...  Loss: 0.5806\n",
      "Epoch: 2/3...  Loss: 0.5630\n",
      "Epoch: 2/3...  Loss: 0.5851\n",
      "Epoch: 2/3...  Loss: 0.5621\n",
      "Epoch: 2/3...  Loss: 0.5925\n",
      "Epoch: 2/3...  Loss: 0.5617\n",
      "Epoch: 2/3...  Loss: 0.5563\n",
      "Epoch: 2/3...  Loss: 0.5292\n",
      "Epoch: 2/3...  Loss: 0.5595\n",
      "Epoch: 2/3...  Loss: 0.5680\n",
      "Epoch: 2/3...  Loss: 0.5044\n",
      "Epoch: 2/3...  Loss: 0.5445\n",
      "Epoch: 2/3...  Loss: 0.5206\n",
      "Epoch: 2/3...  Loss: 0.5398\n",
      "Epoch: 2/3...  Loss: 0.5525\n",
      "Epoch: 2/3...  Loss: 0.5015\n",
      "Epoch: 2/3...  Loss: 0.5355\n",
      "Epoch: 2/3...  Loss: 0.5258\n",
      "Epoch: 2/3...  Loss: 0.5173\n",
      "Epoch: 3/3...  Loss: 0.0468\n",
      "Epoch: 3/3...  Loss: 0.5451\n",
      "Epoch: 3/3...  Loss: 0.4994\n",
      "Epoch: 3/3...  Loss: 0.4871\n",
      "Epoch: 3/3...  Loss: 0.5167\n",
      "Epoch: 3/3...  Loss: 0.5345\n",
      "Epoch: 3/3...  Loss: 0.4987\n",
      "Epoch: 3/3...  Loss: 0.4797\n",
      "Epoch: 3/3...  Loss: 0.4728\n",
      "Epoch: 3/3...  Loss: 0.5090\n",
      "Epoch: 3/3...  Loss: 0.4823\n",
      "Epoch: 3/3...  Loss: 0.4759\n",
      "Epoch: 3/3...  Loss: 0.4852\n",
      "Epoch: 3/3...  Loss: 0.4705\n",
      "Epoch: 3/3...  Loss: 0.4918\n",
      "Epoch: 3/3...  Loss: 0.4686\n",
      "Epoch: 3/3...  Loss: 0.4933\n",
      "Epoch: 3/3...  Loss: 0.4659\n",
      "Epoch: 3/3...  Loss: 0.4787\n",
      "Epoch: 3/3...  Loss: 0.4837\n",
      "Epoch: 3/3...  Loss: 0.4585\n",
      "Epoch: 3/3...  Loss: 0.4901\n",
      "Epoch: 3/3...  Loss: 0.4574\n",
      "Epoch: 3/3...  Loss: 0.4574\n"
     ]
    }
   ],
   "source": [
    "# TODO: Train the network here\n",
    "epochs = 3\n",
    "print_every = 40\n",
    "steps = 0\n",
    "for e in range(epochs):\n",
    "    running_loss = 0\n",
    "    for images, labels in iter(trainloader):\n",
    "        steps += 1\n",
    "        # Flatten MNIST images into a 784 long vector\n",
    "        images.resize_(images.size()[0], 784)\n",
    "        \n",
    "        optimizer.zero_grad()\n",
    "        \n",
    "        # Forward and backward passes\n",
    "        output = model.forward(images)\n",
    "        loss = criterion(output, labels)\n",
    "        loss.backward()\n",
    "        optimizer.step()\n",
    "        \n",
    "        running_loss += loss.item()\n",
    "        \n",
    "        if steps % print_every == 0:\n",
    "            print(\"Epoch: {}/{}... \".format(e+1, epochs),\n",
    "                  \"Loss: {:.4f}\".format(running_loss/print_every))\n",
    "            \n",
    "            running_loss = 0"
   ]
  },
  {
   "cell_type": "code",
   "execution_count": 9,
   "metadata": {},
   "outputs": [
    {
     "data": {
      "image/png": "[encoded data removed]",
      "text/plain": [
       "<matplotlib.figure.Figure at 0x7fac95b01438>"
      ]
     },
     "metadata": {
      "image/png": {
       "height": 204,
       "width": 423
      }
     },
     "output_type": "display_data"
    }
   ],
   "source": [
    "# Test out your network!\n",
    "\n",
    "dataiter = iter(testloader)\n",
    "images, labels = dataiter.next()\n",
    "img = images[0]\n",
    "# Convert 2D image to 1D vector\n",
    "img = img.resize_(1, 784)\n",
    "\n",
    "# TODO: Calculate the class probabilities (softmax) for img\n",
    "# Turn off gradients to speed up this part\n",
    "with torch.no_grad():\n",
    "    logits = model.forward(img)\n",
    "\n",
    "# Output of the network are logits, need to take softmax for probabilities\n",
    "ps = F.softmax(logits, dim=1)\n",
    "\n",
    "# Plot the image and probabilities\n",
    "helper.view_classify(img.resize_(1, 28, 28), ps, version='Fashion')"
   ]
  },
  {
   "cell_type": "markdown",
   "metadata": {},
   "source": [
    "Now that your network is trained, you'll want to save it to disk so you can load it later instead of training it again. Obviously, it's impractical to train a network every time you need one. In practice, you'll train it once, save the model, then reload it for further training or making predictions. In the next part, I'll show you how to save and load trained models."
   ]
  }
 ],
 "metadata": {
  "kernelspec": {
   "display_name": "Python 3",
   "language": "python",
   "name": "python3"
  },
  "language_info": {
   "codemirror_mode": {
    "name": "ipython",
    "version": 3
   },
   "file_extension": ".py",
   "mimetype": "text/x-python",
   "name": "python",
   "nbconvert_exporter": "python",
   "pygments_lexer": "ipython3",
   "version": "3.6.6"
  }
 },
 "nbformat": 4,
 "nbformat_minor": 2
}
